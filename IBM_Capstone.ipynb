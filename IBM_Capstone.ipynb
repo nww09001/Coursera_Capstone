{
  "nbformat": 4,
  "nbformat_minor": 0,
  "metadata": {
    "colab": {
      "name": "IBM_Capstone.ipynb",
      "provenance": [],
      "authorship_tag": "ABX9TyOTf7ukUDhF9ItzMRZuUBC1",
      "include_colab_link": true
    },
    "kernelspec": {
      "name": "python3",
      "display_name": "Python 3"
    },
    "language_info": {
      "name": "python"
    }
  },
  "cells": [
    {
      "cell_type": "markdown",
      "metadata": {
        "id": "view-in-github",
        "colab_type": "text"
      },
      "source": [
        "<a href=\"https://colab.research.google.com/github/nww09001/Coursera_Capstone/blob/main/IBM_Capstone.ipynb\" target=\"_parent\"><img src=\"https://colab.research.google.com/assets/colab-badge.svg\" alt=\"Open In Colab\"/></a>"
      ]
    },
    {
      "cell_type": "markdown",
      "metadata": {
        "id": "JaWdQ95RaEJc"
      },
      "source": [
        "6/29/2021\n",
        "\n",
        "Author: Noah W\n",
        "\n",
        "This notbook will be used to complete the IBM Data science Capstone project. Capstone will focus on clustering geographical data.\n"
      ]
    },
    {
      "cell_type": "code",
      "metadata": {
        "id": "6CQM99LOaSUx"
      },
      "source": [
        "import pandas as pd"
      ],
      "execution_count": 1,
      "outputs": []
    },
    {
      "cell_type": "code",
      "metadata": {
        "id": "mGBtXTD0aWCb"
      },
      "source": [
        "import numpy as np"
      ],
      "execution_count": 2,
      "outputs": []
    },
    {
      "cell_type": "code",
      "metadata": {
        "colab": {
          "base_uri": "https://localhost:8080/"
        },
        "id": "isI6QNALaZj3",
        "outputId": "2de4b9f6-f553-4c96-b148-3499043b38ae"
      },
      "source": [
        "print(\"Hello Capstone Project Course\")"
      ],
      "execution_count": 3,
      "outputs": [
        {
          "output_type": "stream",
          "text": [
            "Hello Capstone Project Course\n"
          ],
          "name": "stdout"
        }
      ]
    },
    {
      "cell_type": "code",
      "metadata": {
        "id": "MXFFfb6KaeN2"
      },
      "source": [
        ""
      ],
      "execution_count": null,
      "outputs": []
    }
  ]
}